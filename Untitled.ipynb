{
 "cells": [
  {
   "cell_type": "code",
   "execution_count": 1,
   "id": "697603e1-8d14-480b-bfad-aa0af0776d83",
   "metadata": {},
   "outputs": [
    {
     "ename": "ImportError",
     "evalue": "cannot import name 'decorate' from 'thinkdsp' (c:\\Users\\ADWIN ADI\\OneDrive\\Desktop\\Jupyter notebook projects\\ThinkDSP\\thinkdsp\\__init__.py)",
     "output_type": "error",
     "traceback": [
      "\u001b[1;31m---------------------------------------------------------------------------\u001b[0m",
      "\u001b[1;31mImportError\u001b[0m                               Traceback (most recent call last)",
      "Cell \u001b[1;32mIn[1], line 1\u001b[0m\n\u001b[1;32m----> 1\u001b[0m \u001b[38;5;28;01mfrom\u001b[39;00m\u001b[38;5;250m \u001b[39m\u001b[38;5;21;01mthinkdsp\u001b[39;00m\u001b[38;5;250m \u001b[39m\u001b[38;5;28;01mimport\u001b[39;00m decorate\n\u001b[0;32m      3\u001b[0m cos_sig\u001b[38;5;241m.\u001b[39mplot()\n\u001b[0;32m      4\u001b[0m decorate(xlabel\u001b[38;5;241m=\u001b[39m\u001b[38;5;124m'\u001b[39m\u001b[38;5;124mTime (s)\u001b[39m\u001b[38;5;124m'\u001b[39m)\n",
      "\u001b[1;31mImportError\u001b[0m: cannot import name 'decorate' from 'thinkdsp' (c:\\Users\\ADWIN ADI\\OneDrive\\Desktop\\Jupyter notebook projects\\ThinkDSP\\thinkdsp\\__init__.py)"
     ]
    }
   ],
   "source": [
    "from thinkdsp import decorate\n",
    "\n",
    "cos_sig.plot()\n",
    "decorate(xlabel='Time (s)')"
   ]
  },
  {
   "cell_type": "code",
   "execution_count": null,
   "id": "c948754a-e1b0-4cfd-b783-68ebcba621ac",
   "metadata": {},
   "outputs": [
    {
     "name": "stdout",
     "output_type": "stream",
     "text": [
      "Help on package thinkdsp:\n",
      "\n",
      "NAME\n",
      "    thinkdsp\n",
      "\n",
      "PACKAGE CONTENTS\n",
      "\n",
      "\n",
      "FILE\n",
      "    c:\\users\\adwin adi\\onedrive\\desktop\\jupyter notebook projects\\thinkdsp\\thinkdsp\\__init__.py\n",
      "\n",
      "\n"
     ]
    }
   ],
   "source": [
    "import thinkdsp\n",
    "help(thinkdsp)"
   ]
  },
  {
   "cell_type": "code",
   "execution_count": null,
   "id": "3a67f805-6844-46b2-b5f7-dd2ab7936008",
   "metadata": {},
   "outputs": [
    {
     "name": "stdout",
     "output_type": "stream",
     "text": [
      "Help on package thinkdsp:\n",
      "\n",
      "NAME\n",
      "    thinkdsp\n",
      "\n",
      "PACKAGE CONTENTS\n",
      "\n",
      "\n",
      "FILE\n",
      "    c:\\users\\adwin adi\\onedrive\\desktop\\jupyter notebook projects\\thinkdsp\\thinkdsp\\__init__.py\n",
      "\n",
      "\n"
     ]
    }
   ],
   "source": [
    "import thinkdsp\n",
    "help(thinkdsp)"
   ]
  },
  {
   "cell_type": "code",
   "execution_count": null,
   "id": "23f78c96-a36c-4366-be12-c4186d95c5ff",
   "metadata": {},
   "outputs": [
    {
     "ename": "ImportError",
     "evalue": "cannot import name 'decorate' from 'thinkdsp' (C:\\Users\\ADWIN ADI\\OneDrive\\Desktop\\Jupyter notebook projects\\ThinkDSP\\thinkdsp\\__init__.py)",
     "output_type": "error",
     "traceback": [
      "\u001b[1;31m---------------------------------------------------------------------------\u001b[0m",
      "\u001b[1;31mImportError\u001b[0m                               Traceback (most recent call last)",
      "Cell \u001b[1;32mIn[2], line 1\u001b[0m\n\u001b[1;32m----> 1\u001b[0m \u001b[38;5;28;01mfrom\u001b[39;00m\u001b[38;5;250m \u001b[39m\u001b[38;5;21;01mthinkdsp\u001b[39;00m\u001b[38;5;250m \u001b[39m\u001b[38;5;28;01mimport\u001b[39;00m decorate\n\u001b[0;32m      3\u001b[0m cos_sig\u001b[38;5;241m.\u001b[39mplot()\n\u001b[0;32m      4\u001b[0m decorate(xlabel\u001b[38;5;241m=\u001b[39m\u001b[38;5;124m'\u001b[39m\u001b[38;5;124mTime (s)\u001b[39m\u001b[38;5;124m'\u001b[39m)\n",
      "\u001b[1;31mImportError\u001b[0m: cannot import name 'decorate' from 'thinkdsp' (C:\\Users\\ADWIN ADI\\OneDrive\\Desktop\\Jupyter notebook projects\\ThinkDSP\\thinkdsp\\__init__.py)"
     ]
    }
   ],
   "source": [
    "from thinkdsp import decorate\n",
    "\n",
    "cos_sig.plot()\n",
    "decorate(xlabel='Time (s)')"
   ]
  },
  {
   "cell_type": "code",
   "execution_count": 2,
   "id": "efd99f18-534a-4029-8272-559e4e2043b5",
   "metadata": {},
   "outputs": [
    {
     "ename": "ImportError",
     "evalue": "cannot import name 'CosSignal' from 'thinkdsp' (c:\\Users\\ADWIN ADI\\OneDrive\\Desktop\\Jupyter notebook projects\\ThinkDSP\\thinkdsp\\__init__.py)",
     "output_type": "error",
     "traceback": [
      "\u001b[1;31m---------------------------------------------------------------------------\u001b[0m",
      "\u001b[1;31mImportError\u001b[0m                               Traceback (most recent call last)",
      "Cell \u001b[1;32mIn[2], line 1\u001b[0m\n\u001b[1;32m----> 1\u001b[0m \u001b[38;5;28;01mfrom\u001b[39;00m\u001b[38;5;250m \u001b[39m\u001b[38;5;21;01mthinkdsp\u001b[39;00m\u001b[38;5;250m \u001b[39m\u001b[38;5;28;01mimport\u001b[39;00m CosSignal, SinSignal\n\u001b[0;32m      3\u001b[0m cos_sig \u001b[38;5;241m=\u001b[39m CosSignal(freq\u001b[38;5;241m=\u001b[39m\u001b[38;5;241m440\u001b[39m, amp\u001b[38;5;241m=\u001b[39m\u001b[38;5;241m1.0\u001b[39m, offset\u001b[38;5;241m=\u001b[39m\u001b[38;5;241m0\u001b[39m)\n\u001b[0;32m      4\u001b[0m sin_sig \u001b[38;5;241m=\u001b[39m SinSignal(freq\u001b[38;5;241m=\u001b[39m\u001b[38;5;241m880\u001b[39m, amp\u001b[38;5;241m=\u001b[39m\u001b[38;5;241m0.5\u001b[39m, offset\u001b[38;5;241m=\u001b[39m\u001b[38;5;241m0\u001b[39m)\n",
      "\u001b[1;31mImportError\u001b[0m: cannot import name 'CosSignal' from 'thinkdsp' (c:\\Users\\ADWIN ADI\\OneDrive\\Desktop\\Jupyter notebook projects\\ThinkDSP\\thinkdsp\\__init__.py)"
     ]
    }
   ],
   "source": [
    "from thinkdsp import CosSignal, SinSignal\n",
    "\n",
    "cos_sig = CosSignal(freq=440, amp=1.0, offset=0)\n",
    "sin_sig = SinSignal(freq=880, amp=0.5, offset=0)"
   ]
  },
  {
   "cell_type": "code",
   "execution_count": 3,
   "id": "12552a84-e14c-47c1-b224-f3d28ec5ea09",
   "metadata": {},
   "outputs": [
    {
     "data": {
      "text/plain": [
       "['__builtins__',\n",
       " '__cached__',\n",
       " '__doc__',\n",
       " '__file__',\n",
       " '__loader__',\n",
       " '__name__',\n",
       " '__package__',\n",
       " '__path__',\n",
       " '__spec__']"
      ]
     },
     "execution_count": 3,
     "metadata": {},
     "output_type": "execute_result"
    }
   ],
   "source": [
    "import thinkdsp\n",
    "dir(thinkdsp)"
   ]
  },
  {
   "cell_type": "code",
   "execution_count": 4,
   "id": "f06df0b8-ef67-4772-a6f4-ae8a31aad1da",
   "metadata": {},
   "outputs": [
    {
     "ename": "ModuleNotFoundError",
     "evalue": "No module named 'thinkdsp.signals'",
     "output_type": "error",
     "traceback": [
      "\u001b[1;31m---------------------------------------------------------------------------\u001b[0m",
      "\u001b[1;31mModuleNotFoundError\u001b[0m                       Traceback (most recent call last)",
      "Cell \u001b[1;32mIn[4], line 1\u001b[0m\n\u001b[1;32m----> 1\u001b[0m \u001b[38;5;28;01mfrom\u001b[39;00m\u001b[38;5;250m \u001b[39m\u001b[38;5;21;01mthinkdsp\u001b[39;00m\u001b[38;5;21;01m.\u001b[39;00m\u001b[38;5;21;01msignals\u001b[39;00m\u001b[38;5;250m \u001b[39m\u001b[38;5;28;01mimport\u001b[39;00m CosSignal, SinSignal\n",
      "\u001b[1;31mModuleNotFoundError\u001b[0m: No module named 'thinkdsp.signals'"
     ]
    }
   ],
   "source": [
    "from thinkdsp.signals import CosSignal, SinSignal\n"
   ]
  },
  {
   "cell_type": "code",
   "execution_count": null,
   "id": "91a5743d-cb4e-417d-874d-42109a6af955",
   "metadata": {},
   "outputs": [],
   "source": []
  },
  {
   "cell_type": "code",
   "execution_count": null,
   "id": "23bc3db7",
   "metadata": {},
   "outputs": [],
   "source": [
    "\n"
   ]
  },
  {
   "cell_type": "code",
   "execution_count": null,
   "id": "c98925fe",
   "metadata": {},
   "outputs": [],
   "source": [
    "\n"
   ]
  },
  {
   "cell_type": "code",
   "execution_count": null,
   "id": "a2ecb967",
   "metadata": {},
   "outputs": [],
   "source": [
    "\n",
    "\n",
    "\n",
    "\n",
    "\n",
    "\n",
    "\n",
    "\n",
    "\n",
    "\n",
    "\n"
   ]
  },
  {
   "cell_type": "code",
   "execution_count": null,
   "id": "10603d2b",
   "metadata": {},
   "outputs": [],
   "source": []
  },
  {
   "cell_type": "code",
   "execution_count": null,
   "id": "fb3c4c7f",
   "metadata": {},
   "outputs": [],
   "source": []
  },
  {
   "cell_type": "code",
   "execution_count": null,
   "id": "87a16a49",
   "metadata": {},
   "outputs": [],
   "source": [
    "\n",
    "\n",
    "\n",
    "\n",
    "\n",
    "\n",
    "\n",
    "\n",
    "\n",
    "\n",
    "\n"
   ]
  }
 ],
 "metadata": {
  "kernelspec": {
   "display_name": "Python 3",
   "language": "python",
   "name": "python3"
  },
  "language_info": {
   "codemirror_mode": {
    "name": "ipython",
    "version": 3
   },
   "file_extension": ".py",
   "mimetype": "text/x-python",
   "name": "python",
   "nbconvert_exporter": "python",
   "pygments_lexer": "ipython3",
   "version": "3.9.13"
  }
 },
 "nbformat": 4,
 "nbformat_minor": 5
}
